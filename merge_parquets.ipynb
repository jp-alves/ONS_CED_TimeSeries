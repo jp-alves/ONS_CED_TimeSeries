{
 "cells": [
  {
   "cell_type": "code",
   "execution_count": 1,
   "id": "ebe713c6",
   "metadata": {},
   "outputs": [],
   "source": [
    "import pandas as pd\n",
    "import os"
   ]
  },
  {
   "cell_type": "code",
   "execution_count": 15,
   "id": "c498dffb",
   "metadata": {},
   "outputs": [],
   "source": [
    "RAW_DATA_DIR = \"/home/joao/Documents/ONS_CED_TimeSeries/raw_data\"\n",
    "PROCESSED_DATA_DIR = '/home/joao/Documents/ONS_CED_TimeSeries/processed_data'\n",
    "\n",
    "all_dfs = []"
   ]
  },
  {
   "cell_type": "code",
   "execution_count": null,
   "id": "669fc0e0",
   "metadata": {},
   "outputs": [
    {
     "name": "stdout",
     "output_type": "stream",
     "text": [
      "Iniciando a leitura dos arquivos Parquet de 2000 a 2005 do diretório: /home/joao/Documents/ONS_CED_TimeSeries/raw_data\n",
      "Lendo CARGA_ENERGIA_2000.parquet...\n",
      "Lendo CARGA_ENERGIA_2001.parquet...\n",
      "Lendo CARGA_ENERGIA_2002.parquet...\n",
      "Lendo CARGA_ENERGIA_2003.parquet...\n",
      "Lendo CARGA_ENERGIA_2004.parquet...\n",
      "Lendo CARGA_ENERGIA_2005.parquet...\n",
      "Lendo CARGA_ENERGIA_2006.parquet...\n",
      "Lendo CARGA_ENERGIA_2007.parquet...\n",
      "Lendo CARGA_ENERGIA_2008.parquet...\n",
      "Lendo CARGA_ENERGIA_2009.parquet...\n",
      "Lendo CARGA_ENERGIA_2010.parquet...\n",
      "Lendo CARGA_ENERGIA_2011.parquet...\n",
      "Lendo CARGA_ENERGIA_2012.parquet...\n",
      "Lendo CARGA_ENERGIA_2013.parquet...\n",
      "Lendo CARGA_ENERGIA_2014.parquet...\n",
      "Lendo CARGA_ENERGIA_2015.parquet...\n",
      "Lendo CARGA_ENERGIA_2016.parquet...\n",
      "Lendo CARGA_ENERGIA_2017.parquet...\n",
      "Lendo CARGA_ENERGIA_2018.parquet...\n",
      "Lendo CARGA_ENERGIA_2019.parquet...\n",
      "Lendo CARGA_ENERGIA_2020.parquet...\n",
      "Lendo CARGA_ENERGIA_2021.parquet...\n",
      "Lendo CARGA_ENERGIA_2022.parquet...\n",
      "Lendo CARGA_ENERGIA_2023.parquet...\n",
      "Lendo CARGA_ENERGIA_2024.parquet...\n",
      "Lendo CARGA_ENERGIA_2025.parquet...\n"
     ]
    }
   ],
   "source": [
    "print(f\"Reading parquet files from: {RAW_DATA_DIR}\")\n",
    "\n",
    "for year in range(2000, 2026): \n",
    "    file_name = f\"CARGA_ENERGIA_{year}.parquet\"\n",
    "    file_path = os.path.join(RAW_DATA_DIR, file_name)\n",
    "\n",
    "    if os.path.exists(file_path):\n",
    "        print(f\"Lendo {file_name}...\")\n",
    "        try:\n",
    "            df_year = pd.read_parquet(file_path)\n",
    "            all_dfs.append(df_year)\n",
    "        except Exception as e:\n",
    "            print(f\"Erro reading file {file_name}: {e}\")\n",
    "    else:\n",
    "        print(f\"File not found: {file_name}. Skipping file\")"
   ]
  },
  {
   "cell_type": "code",
   "execution_count": null,
   "id": "f62fc4a1",
   "metadata": {},
   "outputs": [
    {
     "name": "stdout",
     "output_type": "stream",
     "text": [
      "\n",
      "Todos os arquivos foram combinados. Total de linhas: 37165\n",
      "Primeiras 5 linhas do DataFrame combinado (antes do processamento):\n",
      "  id_subsistema        nom_subsistema din_instante val_cargaenergiamwmed\n",
      "0             N                 Norte   2000-01-01         2243.51250000\n",
      "1            NE              Nordeste   2000-01-01         4646.37083333\n",
      "2             S                   Sul   2000-01-01         4800.65000000\n",
      "3            SE  Sudeste/Centro-Oeste   2000-01-01        19045.99583333\n",
      "4             N                 Norte   2000-01-02         2259.80833333\n",
      "\n",
      "Informações sobre o DataFrame combinado (antes do processamento):\n",
      "<class 'pandas.core.frame.DataFrame'>\n",
      "RangeIndex: 37165 entries, 0 to 37164\n",
      "Data columns (total 4 columns):\n",
      " #   Column                 Non-Null Count  Dtype         \n",
      "---  ------                 --------------  -----         \n",
      " 0   id_subsistema          37165 non-null  object        \n",
      " 1   nom_subsistema         37165 non-null  object        \n",
      " 2   din_instante           37165 non-null  datetime64[ns]\n",
      " 3   val_cargaenergiamwmed  37153 non-null  object        \n",
      "dtypes: datetime64[ns](1), object(3)\n",
      "memory usage: 1.1+ MB\n"
     ]
    }
   ],
   "source": [
    "# Concat dataframes\n",
    "if all_dfs:\n",
    "    df_combined = pd.concat(all_dfs, ignore_index=True)\n",
    "    print(f\"\\nAll files were combined. Total lines: {len(df_combined)}\")\n",
    "    print(\"First 5 rows before processing\")\n",
    "    print(df_combined.head())\n",
    "    print(\"\\nCombined dataframe info\")\n",
    "    df_combined.info()\n",
    "else:\n",
    "    print(\"\\nDidnt read any file\")\n",
    "    exit() "
   ]
  },
  {
   "cell_type": "code",
   "execution_count": null,
   "id": "5d26ff83",
   "metadata": {},
   "outputs": [
    {
     "name": "stdout",
     "output_type": "stream",
     "text": [
      "\n",
      "Convertendo 'din_instante' para o tipo datetime...\n"
     ]
    }
   ],
   "source": [
    "print(\"\\nConverting 'din_instante' to datetime...\")\n",
    "df_combined['din_instante'] = pd.to_datetime(df_combined['din_instante'])"
   ]
  },
  {
   "cell_type": "code",
   "execution_count": null,
   "id": "c40f93b7",
   "metadata": {},
   "outputs": [
    {
     "name": "stdout",
     "output_type": "stream",
     "text": [
      "Convertendo 'val_cargaenergiamwmed' para tipo numérico (float)...\n"
     ]
    }
   ],
   "source": [
    "print(\"Converting 'val_cargaenergiamwmed' to (float)...\")\n",
    "df_combined['val_cargaenergiamwmed'] = pd.to_numeric(df_combined['val_cargaenergiamwmed'], errors='coerce')"
   ]
  },
  {
   "cell_type": "code",
   "execution_count": null,
   "id": "b09f2bcf",
   "metadata": {},
   "outputs": [
    {
     "name": "stdout",
     "output_type": "stream",
     "text": [
      "Agrupando os dados por 'din_instante' e somando 'val_cargaenergiamwmed'...\n"
     ]
    }
   ],
   "source": [
    "print(\"Grouping by 'din_instante' e sum 'val_cargaenergiamwmed'...\")\n",
    "df_daily_total = df_combined.groupby('din_instante')['val_cargaenergiamwmed'].sum().reset_index()"
   ]
  },
  {
   "cell_type": "code",
   "execution_count": 8,
   "id": "40c1a851",
   "metadata": {},
   "outputs": [],
   "source": [
    "df_daily_total = df_daily_total.rename(columns={'val_cargaenergiamwmed': 'total_carga_mwmed'})"
   ]
  },
  {
   "cell_type": "code",
   "execution_count": null,
   "id": "ff9e3a68",
   "metadata": {},
   "outputs": [
    {
     "name": "stdout",
     "output_type": "stream",
     "text": [
      "\n",
      "Processamento concluído.\n",
      "Primeiras 5 linhas do DataFrame final com a carga total diária:\n",
      "  din_instante  total_carga_mwmed\n",
      "0   2000-01-01       30736.529167\n",
      "1   2000-01-02       31453.354167\n",
      "2   2000-01-03       37466.737500\n",
      "3   2000-01-04       39149.970833\n",
      "4   2000-01-05       39961.879167\n"
     ]
    }
   ],
   "source": [
    "print(\"First 5 rows:\")\n",
    "print(df_daily_total.head())"
   ]
  },
  {
   "cell_type": "code",
   "execution_count": null,
   "id": "f5781567",
   "metadata": {},
   "outputs": [
    {
     "name": "stdout",
     "output_type": "stream",
     "text": [
      "\n",
      "Últimas 5 linhas do DataFrame final com a carga total diária:\n",
      "     din_instante  total_carga_mwmed\n",
      "9287   2025-06-04       79512.124167\n",
      "9288   2025-06-05       79860.350042\n",
      "9289   2025-06-06           0.000000\n",
      "9290   2025-06-07           0.000000\n",
      "9291   2025-06-08           0.000000\n"
     ]
    }
   ],
   "source": [
    "print(\"\\nLast 5 rows:\")\n",
    "print(df_daily_total.tail())"
   ]
  },
  {
   "cell_type": "code",
   "execution_count": null,
   "id": "5fa05487",
   "metadata": {},
   "outputs": [
    {
     "name": "stdout",
     "output_type": "stream",
     "text": [
      "\n",
      "Removendo as últimas 3 linhas do DataFrame...\n"
     ]
    }
   ],
   "source": [
    "print(\"\\nRemoving last 3 rows that contains 0\")\n",
    "df_daily_total = df_daily_total.iloc[:-3]"
   ]
  },
  {
   "cell_type": "code",
   "execution_count": null,
   "id": "7968829a",
   "metadata": {},
   "outputs": [
    {
     "name": "stdout",
     "output_type": "stream",
     "text": [
      "\n",
      "Primeiras 5 linhas do DataFrame após a remoção:\n",
      "  din_instante  total_carga_mwmed\n",
      "0   2000-01-01       30736.529167\n",
      "1   2000-01-02       31453.354167\n",
      "2   2000-01-03       37466.737500\n",
      "3   2000-01-04       39149.970833\n",
      "4   2000-01-05       39961.879167\n",
      "\n",
      "Últimas 5 linhas do DataFrame após a remoção:\n",
      "     din_instante  total_carga_mwmed\n",
      "9284   2025-06-01       65715.325542\n",
      "9285   2025-06-02       76922.647583\n",
      "9286   2025-06-03       79365.290958\n",
      "9287   2025-06-04       79512.124167\n",
      "9288   2025-06-05       79860.350042\n"
     ]
    }
   ],
   "source": [
    "print(df_daily_total.head())\n",
    "print(df_daily_total.tail())"
   ]
  },
  {
   "cell_type": "code",
   "execution_count": null,
   "id": "5b823b73",
   "metadata": {},
   "outputs": [
    {
     "name": "stdout",
     "output_type": "stream",
     "text": [
      "\n",
      "Informações sobre o DataFrame final:\n",
      "<class 'pandas.core.frame.DataFrame'>\n",
      "RangeIndex: 9289 entries, 0 to 9288\n",
      "Data columns (total 2 columns):\n",
      " #   Column             Non-Null Count  Dtype         \n",
      "---  ------             --------------  -----         \n",
      " 0   din_instante       9289 non-null   datetime64[ns]\n",
      " 1   total_carga_mwmed  9289 non-null   float64       \n",
      "dtypes: datetime64[ns](1), float64(1)\n",
      "memory usage: 145.3 KB\n"
     ]
    }
   ],
   "source": [
    "df_daily_total.info()"
   ]
  },
  {
   "cell_type": "code",
   "execution_count": 16,
   "id": "e1a4fb41",
   "metadata": {},
   "outputs": [
    {
     "name": "stdout",
     "output_type": "stream",
     "text": [
      "\n",
      "DataFrame processado salvo em: /home/joao/Documents/ONS_CED_TimeSeries/processed_data/carga_energia_diaria_total_2000_2025.parquet\n"
     ]
    }
   ],
   "source": [
    "save_path = os.path.join(PROCESSED_DATA_DIR, \"carga_energia_diaria_total_2000_2025.parquet\")\n",
    "df_daily_total.to_parquet(save_path, index=False)\n",
    "print(f\"\\nDataFrame processado salvo em: {save_path}\")"
   ]
  },
  {
   "cell_type": "code",
   "execution_count": null,
   "id": "1f078060",
   "metadata": {},
   "outputs": [],
   "source": []
  }
 ],
 "metadata": {
  "kernelspec": {
   "display_name": "base",
   "language": "python",
   "name": "python3"
  },
  "language_info": {
   "codemirror_mode": {
    "name": "ipython",
    "version": 3
   },
   "file_extension": ".py",
   "mimetype": "text/x-python",
   "name": "python",
   "nbconvert_exporter": "python",
   "pygments_lexer": "ipython3",
   "version": "3.12.7"
  }
 },
 "nbformat": 4,
 "nbformat_minor": 5
}
